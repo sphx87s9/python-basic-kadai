{
  "nbformat": 4,
  "nbformat_minor": 0,
  "metadata": {
    "colab": {
      "provenance": []
    },
    "kernelspec": {
      "name": "python3",
      "display_name": "Python 3"
    },
    "language_info": {
      "name": "python"
    }
  },
  "cells": [
    {
      "cell_type": "code",
      "execution_count": 7,
      "metadata": {
        "colab": {
          "base_uri": "https://localhost:8080/"
        },
        "id": "Bd9h2ZMqtIkQ",
        "outputId": "9779a077-4eb9-44bf-a8d9-a862865a3803"
      },
      "outputs": [
        {
          "output_type": "stream",
          "name": "stdout",
          "text": [
            "1100.0\n"
          ]
        }
      ],
      "source": [
        "#消費税を加えた計算結果を返す関数を記述する\n",
        "#「結果を返す関数」なので戻り値を使用する\n",
        "#第1引数に商品の金額、第2引数に消費税（10%）を設定する\n",
        "\n",
        "def tax_included_price(price, tax):\n",
        "    total = price + price * tax/100\n",
        "    return total\n",
        "\n",
        "total_price = tax_included_price(1000,10)\n",
        "print(total_price)\n",
        "\n",
        "\n"
      ]
    }
  ]
}