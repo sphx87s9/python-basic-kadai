{
  "nbformat": 4,
  "nbformat_minor": 0,
  "metadata": {
    "colab": {
      "provenance": []
    },
    "kernelspec": {
      "name": "python3",
      "display_name": "Python 3"
    },
    "language_info": {
      "name": "python"
    }
  },
  "cells": [
    {
      "cell_type": "code",
      "source": [
        "class Human:\n",
        "  def __init__(self, name, age):\n",
        "    self.name = name\n",
        "    self.age = age\n",
        "\n",
        "  def check_adult(self):\n",
        "    if self.age >= 20:\n",
        "      print(\"大人\")\n",
        "    else :\n",
        "      print(\"大人でない\")\n",
        "\n",
        "persons = [Human(\"侍花子\", 30), Human(\"侍太郎\",18), Human(\"侍次郎\", 25)]\n",
        "\n",
        "for person in persons:\n",
        "    person.check_adult()"
      ],
      "metadata": {
        "colab": {
          "base_uri": "https://localhost:8080/"
        },
        "id": "M1oKcHN3x8r6",
        "outputId": "505b60db-1d3b-4a70-c5c6-708916002b58"
      },
      "execution_count": 12,
      "outputs": [
        {
          "output_type": "stream",
          "name": "stdout",
          "text": [
            "大人\n",
            "大人でない\n",
            "大人\n"
          ]
        }
      ]
    }
  ]
}