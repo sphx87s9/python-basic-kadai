{
  "nbformat": 4,
  "nbformat_minor": 0,
  "metadata": {
    "colab": {
      "provenance": []
    },
    "kernelspec": {
      "name": "python3",
      "display_name": "Python 3"
    },
    "language_info": {
      "name": "python"
    }
  },
  "cells": [
    {
      "cell_type": "code",
      "source": [
        "#変数varが、3の倍数の場合は「Fizz」を出力\n",
        "#変数varが、5の倍数の場合は「Buzz」を出力\n",
        "#変数varが、3の倍数と5の倍数の両方に該当する場合は「FizzBuzz」を出力\n",
        "#上記のどの場合にも該当しない場合は、変数varの値を出力\n",
        "\n",
        "var = 23\n",
        "\n",
        "if var % 3 == 0 and var % 5 ==0:\n",
        "  print(\"FizzBuzz\")\n",
        "\n",
        "elif var % 3 == 0:\n",
        "  print(\"Fizz\")\n",
        "\n",
        "\n",
        "elif var % 5 ==0:\n",
        "  print(\"Buzz\")\n",
        "\n",
        "\n",
        "else:\n",
        "  print(var)"
      ],
      "metadata": {
        "colab": {
          "base_uri": "https://localhost:8080/"
        },
        "id": "D3jdNa-7TNrJ",
        "outputId": "2d661ba1-6dee-415d-eaea-aa7432dc161c"
      },
      "execution_count": 34,
      "outputs": [
        {
          "output_type": "stream",
          "name": "stdout",
          "text": [
            "23\n"
          ]
        }
      ]
    }
  ]
}