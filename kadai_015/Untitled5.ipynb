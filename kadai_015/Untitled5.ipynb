{
  "nbformat": 4,
  "nbformat_minor": 0,
  "metadata": {
    "colab": {
      "provenance": []
    },
    "kernelspec": {
      "name": "python3",
      "display_name": "Python 3"
    },
    "language_info": {
      "name": "python"
    }
  },
  "cells": [
    {
      "cell_type": "code",
      "source": [
        "class Human:\n",
        "  def __init__(self, name, age):\n",
        "    self.name = name\n",
        "    self.age = age\n",
        "\n",
        "  def show_name(self):\n",
        "    print(self.name)\n",
        "    print(self.age)\n",
        "\n",
        "person = Human(\"侍花子\", 30)\n",
        "person.show_name()"
      ],
      "metadata": {
        "colab": {
          "base_uri": "https://localhost:8080/"
        },
        "id": "M1oKcHN3x8r6",
        "outputId": "57ad909d-d2d7-43a1-945f-a8b0516a178e"
      },
      "execution_count": 7,
      "outputs": [
        {
          "output_type": "stream",
          "name": "stdout",
          "text": [
            "侍花子\n",
            "30\n"
          ]
        }
      ]
    }
  ]
}